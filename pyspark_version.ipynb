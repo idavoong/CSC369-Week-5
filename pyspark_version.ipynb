{
 "cells": [
  {
   "cell_type": "code",
   "execution_count": 17,
   "metadata": {},
   "outputs": [],
   "source": [
    "from pyspark.sql import SparkSession\n",
    "from pyspark.sql.functions import col, count, date_trunc"
   ]
  },
  {
   "cell_type": "code",
   "execution_count": 18,
   "metadata": {},
   "outputs": [
    {
     "name": "stdout",
     "output_type": "stream",
     "text": [
      "+-------------------+-------+\n",
      "|               hour|  count|\n",
      "+-------------------+-------+\n",
      "|2022-04-03 19:00:00| 410990|\n",
      "|2022-04-03 20:00:00| 427105|\n",
      "|2022-04-03 21:00:00|1696128|\n",
      "|2022-04-03 22:00:00|1011734|\n",
      "|2022-04-03 23:00:00|1224907|\n",
      "|2022-04-04 00:00:00| 372502|\n",
      "|2022-04-04 01:00:00| 280104|\n",
      "|2022-04-04 02:00:00| 212809|\n",
      "|2022-04-04 03:00:00| 233912|\n",
      "|2022-04-04 04:00:00| 240421|\n",
      "|2022-04-04 05:00:00| 220941|\n",
      "|2022-04-04 06:00:00| 242580|\n",
      "|2022-04-04 07:00:00| 294672|\n",
      "|2022-04-04 08:00:00| 343667|\n",
      "|2022-04-04 09:00:00| 392835|\n",
      "|2022-04-04 10:00:00| 341759|\n",
      "|2022-04-04 11:00:00| 410807|\n",
      "|2022-04-04 12:00:00| 483185|\n",
      "|2022-04-04 13:00:00| 535156|\n",
      "|2022-04-04 14:00:00| 495017|\n",
      "+-------------------+-------+\n",
      "only showing top 20 rows\n",
      "\n"
     ]
    }
   ],
   "source": [
    "spark = SparkSession.builder.getOrCreate()\n",
    "df = spark.read.parquet(\"2022pyarrow.parquet\")\n",
    "\n",
    "flag_times = (\n",
    "    df.filter((col(\"x\").between(0, 250)) & (col(\"y\").between(1346, 1968)))\n",
    "    .withColumn(\"hour\", date_trunc(\"hour\", col(\"timestamp\")))\n",
    "    .groupBy(\"hour\")\n",
    "    .agg(count(\"*\").alias(\"count\"))\n",
    "    .orderBy(\"hour\")\n",
    ")\n",
    "\n",
    "flag_times.show()"
   ]
  },
  {
   "cell_type": "code",
   "execution_count": 19,
   "metadata": {},
   "outputs": [
    {
     "name": "stdout",
     "output_type": "stream",
     "text": [
      "+-----------+-------+\n",
      "|pixel_color|  count|\n",
      "+-----------+-------+\n",
      "|    #FFFFFF|6185040|\n",
      "|    #000000|2842978|\n",
      "|    #2450A4|2010094|\n",
      "|    #BE0039|1963777|\n",
      "|    #811E9F|1691777|\n",
      "+-----------+-------+\n",
      "\n"
     ]
    }
   ],
   "source": [
    "spark = SparkSession.builder.getOrCreate()\n",
    "df = spark.read.parquet(\"2022pyarrow.parquet\")\n",
    "\n",
    "colors = (\n",
    "    df.filter((col(\"x\").between(0, 250)) & (col(\"y\").between(1346, 1968)))\n",
    "    .groupBy(\"pixel_color\")\n",
    "    .agg(count(\"*\").alias(\"count\"))\n",
    "    .orderBy(col(\"count\").desc())\n",
    "    .limit(5)\n",
    ")\n",
    "\n",
    "colors.show()"
   ]
  },
  {
   "cell_type": "code",
   "execution_count": 20,
   "metadata": {},
   "outputs": [
    {
     "name": "stdout",
     "output_type": "stream",
     "text": [
      "+-------------------+-----+\n",
      "|               hour|count|\n",
      "+-------------------+-----+\n",
      "|2022-04-03 19:00:00| 1324|\n",
      "|2022-04-03 20:00:00| 1806|\n",
      "|2022-04-03 21:00:00| 3266|\n",
      "|2022-04-03 22:00:00| 2446|\n",
      "|2022-04-03 23:00:00|27459|\n",
      "|2022-04-04 00:00:00| 1207|\n",
      "|2022-04-04 01:00:00| 1273|\n",
      "|2022-04-04 02:00:00| 1866|\n",
      "|2022-04-04 03:00:00| 1737|\n",
      "|2022-04-04 04:00:00| 1135|\n",
      "|2022-04-04 05:00:00| 1154|\n",
      "|2022-04-04 06:00:00| 1125|\n",
      "|2022-04-04 07:00:00| 7978|\n",
      "|2022-04-04 08:00:00| 5937|\n",
      "|2022-04-04 09:00:00| 4180|\n",
      "|2022-04-04 10:00:00| 5844|\n",
      "|2022-04-04 11:00:00| 4476|\n",
      "|2022-04-04 12:00:00| 4293|\n",
      "|2022-04-04 13:00:00| 4335|\n",
      "|2022-04-04 14:00:00| 9760|\n",
      "+-------------------+-----+\n",
      "only showing top 20 rows\n",
      "\n"
     ]
    }
   ],
   "source": [
    "spark = SparkSession.builder.getOrCreate()\n",
    "df = spark.read.parquet(\"2022pyarrow.parquet\")\n",
    "\n",
    "purple = (\n",
    "    df.filter(\n",
    "        (col(\"x\").between(0, 250)) &\n",
    "        (col(\"y\").between(1346, 1968)) &\n",
    "        (col(\"pixel_color\") == \"#811E9F\")\n",
    "    )\n",
    "    .withColumn(\"hour\", date_trunc(\"hour\", col(\"timestamp\")))\n",
    "    .groupBy(\"hour\")\n",
    "    .agg(count(\"*\").alias(\"count\"))\n",
    "    .orderBy(\"hour\")\n",
    ")\n",
    "\n",
    "purple.show()"
   ]
  }
 ],
 "metadata": {
  "kernelspec": {
   "display_name": "Python 3",
   "language": "python",
   "name": "python3"
  },
  "language_info": {
   "codemirror_mode": {
    "name": "ipython",
    "version": 3
   },
   "file_extension": ".py",
   "mimetype": "text/x-python",
   "name": "python",
   "nbconvert_exporter": "python",
   "pygments_lexer": "ipython3",
   "version": "3.10.11"
  }
 },
 "nbformat": 4,
 "nbformat_minor": 2
}
