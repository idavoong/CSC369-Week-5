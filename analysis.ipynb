{
 "cells": [
  {
   "cell_type": "code",
   "execution_count": 1,
   "metadata": {},
   "outputs": [],
   "source": [
    "import duckdb"
   ]
  },
  {
   "cell_type": "code",
   "execution_count": 4,
   "metadata": {},
   "outputs": [
    {
     "name": "stdout",
     "output_type": "stream",
     "text": [
      "┌────────┬───────┬───────┐\n",
      "│   x    │   y   │ count │\n",
      "│ int64  │ int64 │ int64 │\n",
      "├────────┼───────┼───────┤\n",
      "│      0 │     0 │ 98807 │\n",
      "│      0 │     1 │  9592 │\n",
      "│      0 │     2 │  3888 │\n",
      "│      0 │     3 │  2080 │\n",
      "│      0 │     4 │  1420 │\n",
      "│      0 │     5 │   897 │\n",
      "│      0 │     6 │   728 │\n",
      "│      0 │     7 │   609 │\n",
      "│      0 │     8 │   408 │\n",
      "│      0 │     9 │   442 │\n",
      "│      · │     · │     · │\n",
      "│      · │     · │     · │\n",
      "│      · │     · │     · │\n",
      "│      5 │   145 │    19 │\n",
      "│      5 │   146 │    44 │\n",
      "│      5 │   147 │    47 │\n",
      "│      5 │   148 │    45 │\n",
      "│      5 │   149 │    46 │\n",
      "│      5 │   150 │    20 │\n",
      "│      5 │   151 │    42 │\n",
      "│      5 │   152 │    15 │\n",
      "│      5 │   153 │    19 │\n",
      "│      5 │   154 │    13 │\n",
      "├────────┴───────┴───────┤\n",
      "│ ? rows       3 columns │\n",
      "└────────────────────────┘\n",
      "\n"
     ]
    }
   ],
   "source": [
    "french = duckdb.sql(f\"\"\"\n",
    "                    SELECT x, y, COUNT(*) as count\n",
    "                    FROM \"2022pyarrow.parquet\"\n",
    "                    WHERE x BETWEEN 0 AND 250 AND y BETWEEN 0 AND 1968\n",
    "                    GROUP BY x, y\n",
    "                    ORDER BY x, y\n",
    "                    \"\"\")\n",
    "\n",
    "print(french)"
   ]
  },
  {
   "cell_type": "code",
   "execution_count": 8,
   "metadata": {},
   "outputs": [
    {
     "name": "stdout",
     "output_type": "stream",
     "text": [
      "┌─────────────┬──────────┐\n",
      "│ pixel_color │  count   │\n",
      "│   varchar   │  int64   │\n",
      "├─────────────┼──────────┤\n",
      "│ #FFFFFF     │ 10119804 │\n",
      "│ #000000     │  7654879 │\n",
      "│ #2450A4     │  3347727 │\n",
      "│ #FF4500     │  2805634 │\n",
      "│ #BE0039     │  2292902 │\n",
      "│ #811E9F     │  2161269 │\n",
      "│ #FFD635     │  1969457 │\n",
      "│ #FFA800     │  1547813 │\n",
      "│ #3690EA     │  1275065 │\n",
      "│ #51E9F4     │  1049594 │\n",
      "│    ·        │      ·   │\n",
      "│    ·        │      ·   │\n",
      "│    ·        │      ·   │\n",
      "│ #515252     │   228023 │\n",
      "│ #FF3881     │   206673 │\n",
      "│ #94B3FF     │   159654 │\n",
      "│ #E4ABFF     │   137688 │\n",
      "│ #DE107F     │   135503 │\n",
      "│ #6A5CFF     │   109429 │\n",
      "│ #6D001A     │   107323 │\n",
      "│ #00756F     │    72746 │\n",
      "│ #00CCC0     │    49562 │\n",
      "│ #009EAA     │    37787 │\n",
      "├─────────────┴──────────┤\n",
      "│   32 rows (20 shown)   │\n",
      "└────────────────────────┘\n",
      "\n"
     ]
    }
   ],
   "source": [
    "colors = duckdb.sql(f\"\"\"\n",
    "                    SELECT pixel_color, COUNT(*) as count\n",
    "                    FROM \"2022pyarrow.parquet\"\n",
    "                    WHERE x BETWEEN 0 AND 250 AND y BETWEEN 0 AND 1968\n",
    "                    GROUP BY pixel_color\n",
    "                    ORDER BY count DESC\n",
    "                    \"\"\")\n",
    "\n",
    "print(colors)"
   ]
  },
  {
   "cell_type": "code",
   "execution_count": 11,
   "metadata": {},
   "outputs": [],
   "source": [
    "times = duckdb.sql(f\"\"\"\n",
    "                    SELECT DATE_TRUNC('hour', timestamp) AS hour, COUNT(*) as count\n",
    "                    FROM \"2022pyarrow.parquet\"\n",
    "                    WHERE x BETWEEN 0 AND 250 AND y BETWEEN 0 AND 1968\n",
    "                    GROUP BY hour\n",
    "                    ORDER BY hour\n",
    "                    \"\"\").df()\n",
    "\n",
    "# print(times)\n",
    "times.to_csv('times.csv', index=False)"
   ]
  }
 ],
 "metadata": {
  "kernelspec": {
   "display_name": "Python 3",
   "language": "python",
   "name": "python3"
  },
  "language_info": {
   "codemirror_mode": {
    "name": "ipython",
    "version": 3
   },
   "file_extension": ".py",
   "mimetype": "text/x-python",
   "name": "python",
   "nbconvert_exporter": "python",
   "pygments_lexer": "ipython3",
   "version": "3.11.5"
  }
 },
 "nbformat": 4,
 "nbformat_minor": 2
}
