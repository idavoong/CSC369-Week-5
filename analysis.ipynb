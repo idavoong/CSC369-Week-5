{
 "cells": [
  {
   "cell_type": "code",
   "execution_count": 8,
   "metadata": {},
   "outputs": [],
   "source": [
    "import duckdb"
   ]
  },
  {
   "cell_type": "code",
   "execution_count": 9,
   "metadata": {},
   "outputs": [
    {
     "name": "stdout",
     "output_type": "stream",
     "text": [
      "                  hour    count\n",
      "0  2022-04-03 19:00:00   410990\n",
      "1  2022-04-03 20:00:00   427105\n",
      "2  2022-04-03 21:00:00  1696128\n",
      "3  2022-04-03 22:00:00  1011734\n",
      "4  2022-04-03 23:00:00  1224907\n",
      "5  2022-04-04 00:00:00   372502\n",
      "6  2022-04-04 01:00:00   280104\n",
      "7  2022-04-04 02:00:00   212809\n",
      "8  2022-04-04 03:00:00   233912\n",
      "9  2022-04-04 04:00:00   240421\n",
      "10 2022-04-04 05:00:00   220941\n",
      "11 2022-04-04 06:00:00   242580\n",
      "12 2022-04-04 07:00:00   294672\n",
      "13 2022-04-04 08:00:00   343667\n",
      "14 2022-04-04 09:00:00   392835\n",
      "15 2022-04-04 10:00:00   341759\n",
      "16 2022-04-04 11:00:00   410807\n",
      "17 2022-04-04 12:00:00   483185\n",
      "18 2022-04-04 13:00:00   535156\n",
      "19 2022-04-04 14:00:00   495017\n",
      "20 2022-04-04 15:00:00  1206063\n",
      "21 2022-04-04 16:00:00  1425676\n",
      "22 2022-04-04 17:00:00   552096\n",
      "23 2022-04-04 18:00:00   472274\n",
      "24 2022-04-04 19:00:00  1241451\n",
      "25 2022-04-04 20:00:00  1188190\n",
      "26 2022-04-04 21:00:00  3021791\n",
      "27 2022-04-04 22:00:00  2640809\n",
      "28 2022-04-04 23:00:00    31222\n",
      "29 2022-04-05 00:00:00     3274\n"
     ]
    }
   ],
   "source": [
    "flag_times = duckdb.sql(f\"\"\"\n",
    "                    SELECT DATE_TRUNC('hour', timestamp) AS hour, COUNT(*) as count\n",
    "                    FROM \"2022pyarrow.parquet\"\n",
    "                    WHERE x BETWEEN 0 AND 250 AND y BETWEEN 1346 AND 1968\n",
    "                    GROUP BY hour\n",
    "                    ORDER BY hour\n",
    "                    \"\"\").df()\n",
    "\n",
    "print(flag_times)\n",
    "# flag_times.to_csv('times.csv', index=False)"
   ]
  },
  {
   "cell_type": "code",
   "execution_count": 10,
   "metadata": {},
   "outputs": [
    {
     "name": "stdout",
     "output_type": "stream",
     "text": [
      "┌─────────────┬─────────┐\n",
      "│ pixel_color │  count  │\n",
      "│   varchar   │  int64  │\n",
      "├─────────────┼─────────┤\n",
      "│ #FFFFFF     │ 6185040 │\n",
      "│ #000000     │ 2842978 │\n",
      "│ #2450A4     │ 2010094 │\n",
      "│ #BE0039     │ 1963777 │\n",
      "│ #811E9F     │ 1691777 │\n",
      "└─────────────┴─────────┘\n",
      "\n"
     ]
    }
   ],
   "source": [
    "colors = duckdb.sql(f\"\"\"\n",
    "                    SELECT pixel_color, COUNT(*) as count\n",
    "                    FROM \"2022pyarrow.parquet\"\n",
    "                    WHERE x BETWEEN 0 AND 250 AND y BETWEEN 1346 AND 1968\n",
    "                    GROUP BY pixel_color\n",
    "                    ORDER BY count DESC\n",
    "                    LIMIT 5\n",
    "                    \"\"\")\n",
    "\n",
    "print(colors)"
   ]
  },
  {
   "cell_type": "code",
   "execution_count": 11,
   "metadata": {},
   "outputs": [
    {
     "name": "stdout",
     "output_type": "stream",
     "text": [
      "                  hour   count\n",
      "0  2022-04-03 19:00:00    1324\n",
      "1  2022-04-03 20:00:00    1806\n",
      "2  2022-04-03 21:00:00    3266\n",
      "3  2022-04-03 22:00:00    2446\n",
      "4  2022-04-03 23:00:00   27459\n",
      "5  2022-04-04 00:00:00    1207\n",
      "6  2022-04-04 01:00:00    1273\n",
      "7  2022-04-04 02:00:00    1866\n",
      "8  2022-04-04 03:00:00    1737\n",
      "9  2022-04-04 04:00:00    1135\n",
      "10 2022-04-04 05:00:00    1154\n",
      "11 2022-04-04 06:00:00    1125\n",
      "12 2022-04-04 07:00:00    7978\n",
      "13 2022-04-04 08:00:00    5937\n",
      "14 2022-04-04 09:00:00    4180\n",
      "15 2022-04-04 10:00:00    5844\n",
      "16 2022-04-04 11:00:00    4476\n",
      "17 2022-04-04 12:00:00    4293\n",
      "18 2022-04-04 13:00:00    4335\n",
      "19 2022-04-04 14:00:00    9760\n",
      "20 2022-04-04 15:00:00    6999\n",
      "21 2022-04-04 16:00:00   11693\n",
      "22 2022-04-04 17:00:00    7129\n",
      "23 2022-04-04 18:00:00    6049\n",
      "24 2022-04-04 19:00:00    5473\n",
      "25 2022-04-04 20:00:00  255581\n",
      "26 2022-04-04 21:00:00  758265\n",
      "27 2022-04-04 22:00:00  547987\n"
     ]
    }
   ],
   "source": [
    "purple = duckdb.sql(f\"\"\"\n",
    "                    SELECT DATE_TRUNC('hour', timestamp) AS hour, COUNT(*) as count\n",
    "                    FROM \"2022pyarrow.parquet\"\n",
    "                    WHERE x BETWEEN 0 AND 250 AND \n",
    "                        y BETWEEN 1346 AND 1968 AND \n",
    "                        pixel_color = '#811E9F'\n",
    "                    GROUP BY hour\n",
    "                    ORDER BY hour\n",
    "                    \"\"\").df()\n",
    "\n",
    "print(purple)\n",
    "# purple.to_csv('purple.csv', index=False)"
   ]
  }
 ],
 "metadata": {
  "kernelspec": {
   "display_name": "Python 3",
   "language": "python",
   "name": "python3"
  },
  "language_info": {
   "codemirror_mode": {
    "name": "ipython",
    "version": 3
   },
   "file_extension": ".py",
   "mimetype": "text/x-python",
   "name": "python",
   "nbconvert_exporter": "python",
   "pygments_lexer": "ipython3",
   "version": "3.11.5"
  }
 },
 "nbformat": 4,
 "nbformat_minor": 2
}
